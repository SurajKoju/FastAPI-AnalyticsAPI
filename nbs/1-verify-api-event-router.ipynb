{
 "cells": [
  {
   "cell_type": "code",
   "execution_count": 14,
   "metadata": {},
   "outputs": [
    {
     "data": {
      "text/plain": [
       "'http://localhost:8002/api/events/'"
      ]
     },
     "execution_count": 14,
     "metadata": {},
     "output_type": "execute_result"
    }
   ],
   "source": [
    "import requests\n",
    "import json\n",
    "from pprint import pprint\n",
    "\n",
    "endpoint = \"/api/events/\"\n",
    "base_url = \"http://localhost:8002\"\n",
    "endpoint = f\"{base_url}{endpoint}\"\n",
    "endpoint"
   ]
  },
  {
   "cell_type": "code",
   "execution_count": 15,
   "metadata": {},
   "outputs": [],
   "source": [
    "data = {\"page\": \"test page\", \"description\": \"test\"}\n",
    "\n",
    "headers = {\n",
    "    \"Content-Type\": \"application/json\"\n",
    "}"
   ]
  },
  {
   "cell_type": "code",
   "execution_count": 16,
   "metadata": {},
   "outputs": [
    {
     "name": "stdout",
     "output_type": "stream",
     "text": [
      "'{\"results\":[],\"count\":0}'\n"
     ]
    }
   ],
   "source": [
    "response = requests.get(endpoint)\n",
    "# print(response.json())\n",
    "pprint(response.text)"
   ]
  },
  {
   "cell_type": "code",
   "execution_count": 17,
   "metadata": {},
   "outputs": [
    {
     "name": "stdout",
     "output_type": "stream",
     "text": [
      "('{\"description\":\"\",\"page\":\"test '\n",
      " 'page\",\"id\":1,\"created_at\":\"2025-04-10T07:09:58.669647Z\"}')\n"
     ]
    }
   ],
   "source": [
    "response = requests.post(endpoint, json = {\"page\": \"test page\", })\n",
    "# print(response.json())\n",
    "pprint(response.text)"
   ]
  },
  {
   "cell_type": "code",
   "execution_count": 19,
   "metadata": {},
   "outputs": [
    {
     "name": "stdout",
     "output_type": "stream",
     "text": [
      "{\"description\":\"h\",\"page\":\"Text\",\"id\":1,\"created_at\":\"2025-04-10T07:09:58.669647Z\"}\n",
      "{'date': 'Thu, 10 Apr 2025 07:10:10 GMT', 'server': 'uvicorn', 'content-length': '83', 'content-type': 'application/json'}\n"
     ]
    }
   ],
   "source": [
    "detail_path = \"/api/events/1\"\n",
    "detail_endpoint = f\"{base_url}{detail_path}\"\n",
    "response = requests.put(detail_endpoint, json={\"page\": \"Text\", \"description\": \"h\"})\n",
    "\n",
    "print(response.text)\n",
    "print(response.headers)"
   ]
  },
  {
   "cell_type": "code",
   "execution_count": 20,
   "metadata": {},
   "outputs": [
    {
     "name": "stdout",
     "output_type": "stream",
     "text": [
      "'{\"results\":[{\"description\":\"h\",\"page\":\"Text\",\"id\":1,\"created_at\":\"2025-04-10T07:09:58.669647Z\"}],\"count\":1}'\n"
     ]
    }
   ],
   "source": [
    "# Check the post data from get method\n",
    "response = requests.get(endpoint)\n",
    "pprint(response.text)"
   ]
  },
  {
   "cell_type": "code",
   "execution_count": null,
   "metadata": {},
   "outputs": [],
   "source": []
  },
  {
   "cell_type": "code",
   "execution_count": 22,
   "metadata": {},
   "outputs": [
    {
     "name": "stdout",
     "output_type": "stream",
     "text": [
      "'{\"description\":\"h\",\"page\":\"Text\",\"id\":1,\"created_at\":\"2025-04-10T07:09:58.669647Z\"}'\n"
     ]
    }
   ],
   "source": [
    "update_path = \"/api/events/1\"\n",
    "update_endpoint = f\"{base_url}{update_path}\"\n",
    "\n",
    "r = requests.get(update_endpoint)\n",
    "\n",
    "pprint(r.text)"
   ]
  },
  {
   "cell_type": "code",
   "execution_count": 23,
   "metadata": {},
   "outputs": [
    {
     "name": "stdout",
     "output_type": "stream",
     "text": [
      "('{\"description\":\"New H\",\"page\":\"New '\n",
      " 'Text\",\"id\":1,\"created_at\":\"2025-04-10T07:09:58.669647Z\"}')\n"
     ]
    }
   ],
   "source": [
    "detail_path = \"/api/events/1/\"\n",
    "detail_endpoint = f\"{base_url}{detail_path}\"\n",
    "response = requests.put(detail_endpoint, json={\"page\": \"New Text\", \"description\": \"New H\"})\n",
    "\n",
    "pprint(response.text)\n",
    "# print(response.headers)"
   ]
  },
  {
   "cell_type": "code",
   "execution_count": 24,
   "metadata": {},
   "outputs": [
    {
     "name": "stdout",
     "output_type": "stream",
     "text": [
      "{\"id\":1}\n"
     ]
    }
   ],
   "source": [
    "detail_path = \"/api/events/1\"\n",
    "detail_endpoint = f\"{base_url}{detail_path}\"\n",
    "response = requests.delete(detail_endpoint)\n",
    "\n",
    "print(response.text)\n",
    "# print(response.headers)"
   ]
  },
  {
   "cell_type": "code",
   "execution_count": 25,
   "metadata": {},
   "outputs": [
    {
     "name": "stdout",
     "output_type": "stream",
     "text": [
      "'{\"results\":[],\"count\":0}'\n"
     ]
    }
   ],
   "source": [
    "update_path = \"/api/events/\"\n",
    "update_endpoint = f\"{base_url}{update_path}\"\n",
    "\n",
    "r = requests.get(update_endpoint)\n",
    "\n",
    "pprint(r.text)"
   ]
  },
  {
   "cell_type": "code",
   "execution_count": null,
   "metadata": {},
   "outputs": [],
   "source": []
  }
 ],
 "metadata": {
  "language_info": {
   "name": "python"
  }
 },
 "nbformat": 4,
 "nbformat_minor": 2
}
