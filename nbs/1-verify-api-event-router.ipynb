{
 "cells": [
  {
   "cell_type": "code",
   "execution_count": 4,
   "metadata": {},
   "outputs": [
    {
     "data": {
      "text/plain": [
       "'http://localhost:8002/api/events/'"
      ]
     },
     "execution_count": 4,
     "metadata": {},
     "output_type": "execute_result"
    }
   ],
   "source": [
    "import requests\n",
    "import json\n",
    "endpoint = \"/api/events/\"\n",
    "base_url = \"http://localhost:8002\"\n",
    "endpoint = f\"{base_url}{endpoint}\"\n",
    "endpoint"
   ]
  },
  {
   "cell_type": "code",
   "execution_count": 5,
   "metadata": {},
   "outputs": [],
   "source": [
    "data = {\"page\": \"test page\", \"description\": \"test\"}\n",
    "\n",
    "headers = {\n",
    "    \"Content-Type\": \"application/json\"\n",
    "}"
   ]
  },
  {
   "cell_type": "code",
   "execution_count": 6,
   "metadata": {},
   "outputs": [
    {
     "name": "stdout",
     "output_type": "stream",
     "text": [
      "{\"results\":[{\"id\":1,\"page\":\"\",\"description\":\"\"},{\"id\":2,\"page\":\"\",\"description\":\"\"},{\"id\":3,\"page\":\"\",\"description\":\"\"}],\"count\":3}\n"
     ]
    }
   ],
   "source": [
    "response = requests.get(endpoint)\n",
    "# print(response.json())\n",
    "print(response.text)"
   ]
  },
  {
   "cell_type": "code",
   "execution_count": 7,
   "metadata": {},
   "outputs": [
    {
     "name": "stdout",
     "output_type": "stream",
     "text": [
      "{\"id\":123,\"page\":\"test page\",\"description\":\"\"}\n"
     ]
    }
   ],
   "source": [
    "response = requests.post(endpoint, json = {\"page\": \"test page\", })\n",
    "# print(response.json())\n",
    "print(response.text)"
   ]
  },
  {
   "cell_type": "code",
   "execution_count": 8,
   "metadata": {},
   "outputs": [
    {
     "name": "stdout",
     "output_type": "stream",
     "text": [
      "{\"id\":2,\"page\":\"Text\",\"description\":\"h\"}\n",
      "{'date': 'Wed, 09 Apr 2025 08:04:54 GMT', 'server': 'uvicorn', 'content-length': '40', 'content-type': 'application/json'}\n"
     ]
    }
   ],
   "source": [
    "detail_path = \"/api/events/2/\"\n",
    "detail_endpoint = f\"{base_url}{detail_path}\"\n",
    "response = requests.put(detail_endpoint, json={\"page\": \"Text\", \"description\": \"h\"})\n",
    "\n",
    "print(response.text)\n",
    "print(response.headers)"
   ]
  },
  {
   "cell_type": "code",
   "execution_count": null,
   "metadata": {},
   "outputs": [],
   "source": []
  },
  {
   "cell_type": "code",
   "execution_count": null,
   "metadata": {},
   "outputs": [],
   "source": []
  }
 ],
 "metadata": {
  "language_info": {
   "name": "python"
  }
 },
 "nbformat": 4,
 "nbformat_minor": 2
}
