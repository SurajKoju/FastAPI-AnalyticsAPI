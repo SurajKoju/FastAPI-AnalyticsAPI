{
 "cells": [
  {
   "cell_type": "code",
   "execution_count": 1,
   "metadata": {},
   "outputs": [
    {
     "data": {
      "text/plain": [
       "'http://localhost:8002/api/events/'"
      ]
     },
     "execution_count": 1,
     "metadata": {},
     "output_type": "execute_result"
    }
   ],
   "source": [
    "import requests\n",
    "import json\n",
    "from pprint import pprint\n",
    "\n",
    "endpoint = \"/api/events/\"\n",
    "base_url = \"http://localhost:8002\"\n",
    "endpoint = f\"{base_url}{endpoint}\"\n",
    "endpoint"
   ]
  },
  {
   "cell_type": "code",
   "execution_count": 2,
   "metadata": {},
   "outputs": [],
   "source": [
    "data = {\"page\": \"test page\", \"description\": \"test\"}\n",
    "\n",
    "headers = {\n",
    "    \"Content-Type\": \"application/json\"\n",
    "}"
   ]
  },
  {
   "cell_type": "code",
   "execution_count": 3,
   "metadata": {},
   "outputs": [
    {
     "name": "stdout",
     "output_type": "stream",
     "text": [
      "('{\"results\":[{\"page\":\"test page\",\"id\":16,\"description\":\"\"},{\"page\":\"test '\n",
      " 'page\",\"id\":15,\"description\":\"\"},{\"page\":\"test '\n",
      " 'page\",\"id\":14,\"description\":\"\"},{\"page\":\"test '\n",
      " 'page\",\"id\":13,\"description\":\"\"},{\"page\":\"test '\n",
      " 'page\",\"id\":12,\"description\":\"\"},{\"page\":\"test '\n",
      " 'page\",\"id\":11,\"description\":\"\"},{\"page\":\"New '\n",
      " 'Text\",\"id\":10,\"description\":\"New H\"},{\"page\":\"test '\n",
      " 'page\",\"id\":9,\"description\":\"\"},{\"page\":\"Text\",\"id\":8,\"description\":\"h\"},{\"page\":\"test '\n",
      " 'page\",\"id\":7,\"description\":\"\"}],\"count\":10}')\n"
     ]
    }
   ],
   "source": [
    "response = requests.get(endpoint)\n",
    "# print(response.json())\n",
    "pprint(response.text)"
   ]
  },
  {
   "cell_type": "code",
   "execution_count": 4,
   "metadata": {},
   "outputs": [
    {
     "name": "stdout",
     "output_type": "stream",
     "text": [
      "'{\"page\":\"test page\",\"id\":17,\"description\":\"\"}'\n"
     ]
    }
   ],
   "source": [
    "response = requests.post(endpoint, json = {\"page\": \"test page\", })\n",
    "# print(response.json())\n",
    "pprint(response.text)"
   ]
  },
  {
   "cell_type": "code",
   "execution_count": 5,
   "metadata": {},
   "outputs": [
    {
     "name": "stdout",
     "output_type": "stream",
     "text": [
      "{\"page\":\"Text\",\"id\":8,\"description\":\"h\"}\n",
      "{'date': 'Wed, 09 Apr 2025 19:41:43 GMT', 'server': 'uvicorn', 'content-length': '40', 'content-type': 'application/json'}\n"
     ]
    }
   ],
   "source": [
    "detail_path = \"/api/events/8/\"\n",
    "detail_endpoint = f\"{base_url}{detail_path}\"\n",
    "response = requests.put(detail_endpoint, json={\"page\": \"Text\", \"description\": \"h\"})\n",
    "\n",
    "print(response.text)\n",
    "print(response.headers)"
   ]
  },
  {
   "cell_type": "code",
   "execution_count": 6,
   "metadata": {},
   "outputs": [
    {
     "name": "stdout",
     "output_type": "stream",
     "text": [
      "('{\"results\":[{\"page\":\"test page\",\"id\":17,\"description\":\"\"},{\"page\":\"test '\n",
      " 'page\",\"id\":16,\"description\":\"\"},{\"page\":\"test '\n",
      " 'page\",\"id\":15,\"description\":\"\"},{\"page\":\"test '\n",
      " 'page\",\"id\":14,\"description\":\"\"},{\"page\":\"test '\n",
      " 'page\",\"id\":13,\"description\":\"\"},{\"page\":\"test '\n",
      " 'page\",\"id\":12,\"description\":\"\"},{\"page\":\"test '\n",
      " 'page\",\"id\":11,\"description\":\"\"},{\"page\":\"New '\n",
      " 'Text\",\"id\":10,\"description\":\"New H\"},{\"page\":\"test '\n",
      " 'page\",\"id\":9,\"description\":\"\"},{\"page\":\"Text\",\"id\":8,\"description\":\"h\"}],\"count\":10}')\n"
     ]
    }
   ],
   "source": [
    "# Check the post data from get method\n",
    "response = requests.get(endpoint)\n",
    "pprint(response.text)"
   ]
  },
  {
   "cell_type": "code",
   "execution_count": null,
   "metadata": {},
   "outputs": [],
   "source": []
  },
  {
   "cell_type": "code",
   "execution_count": 7,
   "metadata": {},
   "outputs": [
    {
     "name": "stdout",
     "output_type": "stream",
     "text": [
      "'{\"page\":\"Text\",\"id\":8,\"description\":\"h\"}'\n"
     ]
    }
   ],
   "source": [
    "update_path = \"/api/events/8\"\n",
    "update_endpoint = f\"{base_url}{update_path}\"\n",
    "\n",
    "r = requests.get(update_endpoint)\n",
    "\n",
    "pprint(r.text)"
   ]
  },
  {
   "cell_type": "code",
   "execution_count": 9,
   "metadata": {},
   "outputs": [
    {
     "name": "stdout",
     "output_type": "stream",
     "text": [
      "'{\"page\":\"New Text\",\"id\":10,\"description\":\"New H\"}'\n"
     ]
    }
   ],
   "source": [
    "detail_path = \"/api/events/10/\"\n",
    "detail_endpoint = f\"{base_url}{detail_path}\"\n",
    "response = requests.put(detail_endpoint, json={\"page\": \"New Text\", \"description\": \"New H\"})\n",
    "\n",
    "pprint(response.text)\n",
    "# print(response.headers)"
   ]
  },
  {
   "cell_type": "code",
   "execution_count": 19,
   "metadata": {},
   "outputs": [
    {
     "name": "stdout",
     "output_type": "stream",
     "text": [
      "{\"id\":10}\n"
     ]
    }
   ],
   "source": [
    "detail_path = \"/api/events/10\"\n",
    "detail_endpoint = f\"{base_url}{detail_path}\"\n",
    "response = requests.delete(detail_endpoint)\n",
    "\n",
    "print(response.text)\n",
    "# print(response.headers)"
   ]
  },
  {
   "cell_type": "code",
   "execution_count": 20,
   "metadata": {},
   "outputs": [
    {
     "name": "stdout",
     "output_type": "stream",
     "text": [
      "('{\"results\":[{\"description\":\"\",\"page\":\"test '\n",
      " 'page\",\"id\":17},{\"description\":\"\",\"page\":\"test '\n",
      " 'page\",\"id\":16},{\"description\":\"\",\"page\":\"test '\n",
      " 'page\",\"id\":15},{\"description\":\"\",\"page\":\"test '\n",
      " 'page\",\"id\":14},{\"description\":\"\",\"page\":\"test '\n",
      " 'page\",\"id\":13},{\"description\":\"\",\"page\":\"test '\n",
      " 'page\",\"id\":12},{\"description\":\"\",\"page\":\"test '\n",
      " 'page\",\"id\":11},{\"description\":\"\",\"page\":\"test '\n",
      " 'page\",\"id\":9},{\"description\":\"h\",\"page\":\"Text\",\"id\":8},{\"description\":\"\",\"page\":\"test '\n",
      " 'page\",\"id\":7},{\"description\":\"\",\"page\":\"test '\n",
      " 'page\",\"id\":6},{\"description\":\"\",\"page\":\"test '\n",
      " 'page\",\"id\":4},{\"description\":\"\",\"page\":\"test '\n",
      " 'page\",\"id\":3},{\"description\":\"\",\"page\":\"test page\",\"id\":1}],\"count\":14}')\n"
     ]
    }
   ],
   "source": [
    "update_path = \"/api/events/\"\n",
    "update_endpoint = f\"{base_url}{update_path}\"\n",
    "\n",
    "r = requests.get(update_endpoint)\n",
    "\n",
    "pprint(r.text)"
   ]
  },
  {
   "cell_type": "code",
   "execution_count": null,
   "metadata": {},
   "outputs": [],
   "source": []
  }
 ],
 "metadata": {
  "language_info": {
   "name": "python"
  }
 },
 "nbformat": 4,
 "nbformat_minor": 2
}
